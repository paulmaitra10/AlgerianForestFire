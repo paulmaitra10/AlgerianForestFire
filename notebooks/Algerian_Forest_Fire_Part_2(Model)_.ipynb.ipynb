{
 "cells": [
  {
   "cell_type": "markdown",
   "id": "dd565fee",
   "metadata": {},
   "source": [
    "# Data Preprocessing "
   ]
  },
  {
   "cell_type": "markdown",
   "id": "33284c01",
   "metadata": {},
   "source": [
    "## - Import Libraries"
   ]
  },
  {
   "cell_type": "code",
   "execution_count": 3,
   "id": "1c3209c6",
   "metadata": {},
   "outputs": [],
   "source": [
    "import pandas as pd\n",
    "import matplotlib.pyplot as plt\n",
    "import numpy as np\n",
    "import seaborn as sns\n",
    "from sklearn.model_selection import RandomizedSearchCV, GridSearchCV\n",
    "from sklearn.preprocessing import StandardScaler\n",
    "from sklearn.model_selection import train_test_split\n",
    "from sklearn.ensemble import RandomForestClassifier\n",
    "from sklearn.tree import DecisionTreeClassifier\n",
    "%matplotlib inline"
   ]
  },
  {
   "cell_type": "markdown",
   "id": "3e5949ff",
   "metadata": {},
   "source": [
    "## - Import Cleaned Dataset"
   ]
  },
  {
   "cell_type": "code",
   "execution_count": 4,
   "id": "80de2463",
   "metadata": {},
   "outputs": [],
   "source": [
    "df = pd.read_csv('Algerian_forest_fires_cleaned_dataset.csv')"
   ]
  },
  {
   "cell_type": "code",
   "execution_count": 5,
   "id": "d9f7c271",
   "metadata": {},
   "outputs": [
    {
     "data": {
      "text/plain": [
       "Index(['day', 'month', 'year', 'Temperature', 'RH', 'Ws', 'Rain', 'FFMC',\n",
       "       'DMC', 'DC', 'ISI', 'BUI', 'FWI', 'Classes', 'Region'],\n",
       "      dtype='object')"
      ]
     },
     "execution_count": 5,
     "metadata": {},
     "output_type": "execute_result"
    }
   ],
   "source": [
    "df.columns"
   ]
  },
  {
   "cell_type": "markdown",
   "id": "06c26ca2",
   "metadata": {},
   "source": [
    "## - Train Test Split"
   ]
  },
  {
   "cell_type": "code",
   "execution_count": 6,
   "id": "047671a8",
   "metadata": {},
   "outputs": [],
   "source": [
    "df.drop(['day','month','year'], axis=1, inplace=True)"
   ]
  },
  {
   "cell_type": "code",
   "execution_count": 7,
   "id": "e0d157e1",
   "metadata": {},
   "outputs": [],
   "source": [
    "# Encoding Not fire as 0 and Fire as 1\n",
    "df['Classes']= np.where(df['Classes']== 'not fire',0,1)"
   ]
  },
  {
   "cell_type": "code",
   "execution_count": 8,
   "id": "1ca23fec",
   "metadata": {},
   "outputs": [],
   "source": [
    "X = df.drop('FWI',axis=1)\n",
    "y= df['FWI']"
   ]
  },
  {
   "cell_type": "code",
   "execution_count": 9,
   "id": "f7c849bd",
   "metadata": {},
   "outputs": [
    {
     "data": {
      "text/plain": [
       "((182, 11), (61, 11))"
      ]
     },
     "execution_count": 9,
     "metadata": {},
     "output_type": "execute_result"
    }
   ],
   "source": [
    "# separate dataset into train and test\n",
    "X_train, X_test, y_train, y_test = train_test_split(X,y,test_size=0.25,random_state=0)\n",
    "X_train.shape, X_test.shape"
   ]
  },
  {
   "cell_type": "code",
   "execution_count": 10,
   "id": "0aa1e469",
   "metadata": {},
   "outputs": [
    {
     "data": {
      "text/html": [
       "<div>\n",
       "<style scoped>\n",
       "    .dataframe tbody tr th:only-of-type {\n",
       "        vertical-align: middle;\n",
       "    }\n",
       "\n",
       "    .dataframe tbody tr th {\n",
       "        vertical-align: top;\n",
       "    }\n",
       "\n",
       "    .dataframe thead th {\n",
       "        text-align: right;\n",
       "    }\n",
       "</style>\n",
       "<table border=\"1\" class=\"dataframe\">\n",
       "  <thead>\n",
       "    <tr style=\"text-align: right;\">\n",
       "      <th></th>\n",
       "      <th>Temperature</th>\n",
       "      <th>RH</th>\n",
       "      <th>Ws</th>\n",
       "      <th>Rain</th>\n",
       "      <th>FFMC</th>\n",
       "      <th>DMC</th>\n",
       "      <th>DC</th>\n",
       "      <th>ISI</th>\n",
       "      <th>BUI</th>\n",
       "      <th>Classes</th>\n",
       "      <th>Region</th>\n",
       "    </tr>\n",
       "  </thead>\n",
       "  <tbody>\n",
       "    <tr>\n",
       "      <th>Temperature</th>\n",
       "      <td>1.000000</td>\n",
       "      <td>-0.657325</td>\n",
       "      <td>-0.357016</td>\n",
       "      <td>-0.365941</td>\n",
       "      <td>0.684556</td>\n",
       "      <td>0.482965</td>\n",
       "      <td>0.349021</td>\n",
       "      <td>0.618172</td>\n",
       "      <td>0.447959</td>\n",
       "      <td>0.204068</td>\n",
       "      <td>0.296033</td>\n",
       "    </tr>\n",
       "    <tr>\n",
       "      <th>RH</th>\n",
       "      <td>-0.657325</td>\n",
       "      <td>1.000000</td>\n",
       "      <td>0.262581</td>\n",
       "      <td>0.275592</td>\n",
       "      <td>-0.653649</td>\n",
       "      <td>-0.393893</td>\n",
       "      <td>-0.203883</td>\n",
       "      <td>-0.712353</td>\n",
       "      <td>-0.333027</td>\n",
       "      <td>-0.150118</td>\n",
       "      <td>-0.427696</td>\n",
       "    </tr>\n",
       "    <tr>\n",
       "      <th>Ws</th>\n",
       "      <td>-0.357016</td>\n",
       "      <td>0.262581</td>\n",
       "      <td>1.000000</td>\n",
       "      <td>0.204035</td>\n",
       "      <td>-0.226129</td>\n",
       "      <td>-0.010158</td>\n",
       "      <td>0.079699</td>\n",
       "      <td>-0.018845</td>\n",
       "      <td>0.023680</td>\n",
       "      <td>-0.090066</td>\n",
       "      <td>-0.191245</td>\n",
       "    </tr>\n",
       "    <tr>\n",
       "      <th>Rain</th>\n",
       "      <td>-0.365941</td>\n",
       "      <td>0.275592</td>\n",
       "      <td>0.204035</td>\n",
       "      <td>1.000000</td>\n",
       "      <td>-0.589465</td>\n",
       "      <td>-0.300364</td>\n",
       "      <td>-0.302591</td>\n",
       "      <td>-0.347660</td>\n",
       "      <td>-0.308258</td>\n",
       "      <td>-0.607844</td>\n",
       "      <td>-0.086938</td>\n",
       "    </tr>\n",
       "    <tr>\n",
       "      <th>FFMC</th>\n",
       "      <td>0.684556</td>\n",
       "      <td>-0.653649</td>\n",
       "      <td>-0.226129</td>\n",
       "      <td>-0.589465</td>\n",
       "      <td>1.000000</td>\n",
       "      <td>0.621958</td>\n",
       "      <td>0.528275</td>\n",
       "      <td>0.742079</td>\n",
       "      <td>0.606527</td>\n",
       "      <td>0.272161</td>\n",
       "      <td>0.267099</td>\n",
       "    </tr>\n",
       "    <tr>\n",
       "      <th>DMC</th>\n",
       "      <td>0.482965</td>\n",
       "      <td>-0.393893</td>\n",
       "      <td>-0.010158</td>\n",
       "      <td>-0.300364</td>\n",
       "      <td>0.621958</td>\n",
       "      <td>1.000000</td>\n",
       "      <td>0.884417</td>\n",
       "      <td>0.680918</td>\n",
       "      <td>0.984222</td>\n",
       "      <td>0.086620</td>\n",
       "      <td>0.175711</td>\n",
       "    </tr>\n",
       "    <tr>\n",
       "      <th>DC</th>\n",
       "      <td>0.349021</td>\n",
       "      <td>-0.203883</td>\n",
       "      <td>0.079699</td>\n",
       "      <td>-0.302591</td>\n",
       "      <td>0.528275</td>\n",
       "      <td>0.884417</td>\n",
       "      <td>1.000000</td>\n",
       "      <td>0.501412</td>\n",
       "      <td>0.951157</td>\n",
       "      <td>0.094095</td>\n",
       "      <td>-0.080660</td>\n",
       "    </tr>\n",
       "    <tr>\n",
       "      <th>ISI</th>\n",
       "      <td>0.618172</td>\n",
       "      <td>-0.712353</td>\n",
       "      <td>-0.018845</td>\n",
       "      <td>-0.347660</td>\n",
       "      <td>0.742079</td>\n",
       "      <td>0.680918</td>\n",
       "      <td>0.501412</td>\n",
       "      <td>1.000000</td>\n",
       "      <td>0.632285</td>\n",
       "      <td>0.113483</td>\n",
       "      <td>0.312299</td>\n",
       "    </tr>\n",
       "    <tr>\n",
       "      <th>BUI</th>\n",
       "      <td>0.447959</td>\n",
       "      <td>-0.333027</td>\n",
       "      <td>0.023680</td>\n",
       "      <td>-0.308258</td>\n",
       "      <td>0.606527</td>\n",
       "      <td>0.984222</td>\n",
       "      <td>0.951157</td>\n",
       "      <td>0.632285</td>\n",
       "      <td>1.000000</td>\n",
       "      <td>0.090411</td>\n",
       "      <td>0.079373</td>\n",
       "    </tr>\n",
       "    <tr>\n",
       "      <th>Classes</th>\n",
       "      <td>0.204068</td>\n",
       "      <td>-0.150118</td>\n",
       "      <td>-0.090066</td>\n",
       "      <td>-0.607844</td>\n",
       "      <td>0.272161</td>\n",
       "      <td>0.086620</td>\n",
       "      <td>0.094095</td>\n",
       "      <td>0.113483</td>\n",
       "      <td>0.090411</td>\n",
       "      <td>1.000000</td>\n",
       "      <td>0.103117</td>\n",
       "    </tr>\n",
       "    <tr>\n",
       "      <th>Region</th>\n",
       "      <td>0.296033</td>\n",
       "      <td>-0.427696</td>\n",
       "      <td>-0.191245</td>\n",
       "      <td>-0.086938</td>\n",
       "      <td>0.267099</td>\n",
       "      <td>0.175711</td>\n",
       "      <td>-0.080660</td>\n",
       "      <td>0.312299</td>\n",
       "      <td>0.079373</td>\n",
       "      <td>0.103117</td>\n",
       "      <td>1.000000</td>\n",
       "    </tr>\n",
       "  </tbody>\n",
       "</table>\n",
       "</div>"
      ],
      "text/plain": [
       "             Temperature        RH        Ws      Rain      FFMC       DMC  \\\n",
       "Temperature     1.000000 -0.657325 -0.357016 -0.365941  0.684556  0.482965   \n",
       "RH             -0.657325  1.000000  0.262581  0.275592 -0.653649 -0.393893   \n",
       "Ws             -0.357016  0.262581  1.000000  0.204035 -0.226129 -0.010158   \n",
       "Rain           -0.365941  0.275592  0.204035  1.000000 -0.589465 -0.300364   \n",
       "FFMC            0.684556 -0.653649 -0.226129 -0.589465  1.000000  0.621958   \n",
       "DMC             0.482965 -0.393893 -0.010158 -0.300364  0.621958  1.000000   \n",
       "DC              0.349021 -0.203883  0.079699 -0.302591  0.528275  0.884417   \n",
       "ISI             0.618172 -0.712353 -0.018845 -0.347660  0.742079  0.680918   \n",
       "BUI             0.447959 -0.333027  0.023680 -0.308258  0.606527  0.984222   \n",
       "Classes         0.204068 -0.150118 -0.090066 -0.607844  0.272161  0.086620   \n",
       "Region          0.296033 -0.427696 -0.191245 -0.086938  0.267099  0.175711   \n",
       "\n",
       "                   DC       ISI       BUI   Classes    Region  \n",
       "Temperature  0.349021  0.618172  0.447959  0.204068  0.296033  \n",
       "RH          -0.203883 -0.712353 -0.333027 -0.150118 -0.427696  \n",
       "Ws           0.079699 -0.018845  0.023680 -0.090066 -0.191245  \n",
       "Rain        -0.302591 -0.347660 -0.308258 -0.607844 -0.086938  \n",
       "FFMC         0.528275  0.742079  0.606527  0.272161  0.267099  \n",
       "DMC          0.884417  0.680918  0.984222  0.086620  0.175711  \n",
       "DC           1.000000  0.501412  0.951157  0.094095 -0.080660  \n",
       "ISI          0.501412  1.000000  0.632285  0.113483  0.312299  \n",
       "BUI          0.951157  0.632285  1.000000  0.090411  0.079373  \n",
       "Classes      0.094095  0.113483  0.090411  1.000000  0.103117  \n",
       "Region      -0.080660  0.312299  0.079373  0.103117  1.000000  "
      ]
     },
     "execution_count": 10,
     "metadata": {},
     "output_type": "execute_result"
    }
   ],
   "source": [
    "X_train.corr()"
   ]
  },
  {
   "cell_type": "markdown",
   "id": "8978ef3c",
   "metadata": {},
   "source": [
    "## - Checking multicollinearlity and remove highly corrrelated features"
   ]
  },
  {
   "cell_type": "code",
   "execution_count": 11,
   "id": "54cdf1e1",
   "metadata": {},
   "outputs": [
    {
     "data": {
      "image/png": "[encoded data removed]",
      "text/plain": [
       "<Figure size 1200x1000 with 2 Axes>"
      ]
     },
     "metadata": {},
     "output_type": "display_data"
    }
   ],
   "source": [
    "# Using Pearson Correlation\n",
    "plt.figure(figsize=(12,10))\n",
    "cor = X_train.corr()\n",
    "sns.heatmap(cor, annot=True, cmap=plt.cm.CMRmap_r)\n",
    "plt.show()"
   ]
  },
  {
   "cell_type": "code",
   "execution_count": 12,
   "id": "bcc0827f",
   "metadata": {},
   "outputs": [],
   "source": [
    "def correlation(dataset, threshold):\n",
    "    col_corr = set()\n",
    "    corr_matrix = dataset.corr()\n",
    "    for i in range(len(corr_matrix.columns)):\n",
    "        for j in range(i):\n",
    "            if abs(corr_matrix.iloc[i, j]) > threshold: \n",
    "                colname = corr_matrix.columns[i]\n",
    "                col_corr.add(colname)\n",
    "    return col_corr"
   ]
  },
  {
   "cell_type": "code",
   "execution_count": 13,
   "id": "5ab5a1be",
   "metadata": {},
   "outputs": [],
   "source": [
    "# setting threshold value 75%\n",
    "corr_features = correlation(X_train, 0.75)"
   ]
  },
  {
   "cell_type": "code",
   "execution_count": 14,
   "id": "5a6dffdc",
   "metadata": {},
   "outputs": [
    {
     "data": {
      "text/plain": [
       "{'BUI', 'DC'}"
      ]
     },
     "execution_count": 14,
     "metadata": {},
     "output_type": "execute_result"
    }
   ],
   "source": [
    "# features which has correlation more than 0.75\n",
    "corr_features"
   ]
  },
  {
   "cell_type": "code",
   "execution_count": 15,
   "id": "aa4a7808",
   "metadata": {},
   "outputs": [
    {
     "data": {
      "text/plain": [
       "((182, 9), (61, 9))"
      ]
     },
     "execution_count": 15,
     "metadata": {},
     "output_type": "execute_result"
    }
   ],
   "source": [
    "# drop features which has correlation more than 0.75\n",
    "X_train.drop(corr_features,axis=1, inplace=True)\n",
    "X_test.drop(corr_features,axis=1, inplace=True)\n",
    "X_train.shape, X_test.shape"
   ]
  },
  {
   "cell_type": "markdown",
   "id": "e611cc0d",
   "metadata": {},
   "source": [
    "## - Feature scaling Applying Standardization"
   ]
  },
  {
   "cell_type": "code",
   "execution_count": 16,
   "id": "a64f26b5",
   "metadata": {},
   "outputs": [],
   "source": [
    "def scaler_standard(X_train, X_test):\n",
    "    scaler = StandardScaler()\n",
    "    X_train_scaled = scaler.fit_transform(X_train)\n",
    "    X_test_scaled = scaler.transform(X_test)\n",
    "    \n",
    "    return X_train_scaled, X_test_scaled"
   ]
  },
  {
   "cell_type": "code",
   "execution_count": 17,
   "id": "a78265ac",
   "metadata": {},
   "outputs": [],
   "source": [
    "X_train_scaled, X_test_scaled = scaler_standard(X_train, X_test)"
   ]
  },
  {
   "cell_type": "markdown",
   "id": "6cd2196c",
   "metadata": {},
   "source": [
    "## - Box plot the dataset to understand effect of standard scaler"
   ]
  },
  {
   "cell_type": "code",
   "execution_count": 18,
   "id": "42edcd3c",
   "metadata": {},
   "outputs": [
    {
     "name": "stderr",
     "output_type": "stream",
     "text": [
      "C:\\Users\\Paulami Maitra\\AppData\\Local\\Temp\\ipykernel_18748\\160744393.py:2: MatplotlibDeprecationWarning: Auto-removal of overlapping axes is deprecated since 3.6 and will be removed two minor releases later; explicitly call ax.remove() as needed.\n",
      "  plt.subplot(1, 2, 1)\n"
     ]
    },
    {
     "data": {
      "text/plain": [
       "Text(0.5, 1.0, 'X_train After Scaling')"
      ]
     },
     "execution_count": 18,
     "metadata": {},
     "output_type": "execute_result"
    },
    {
     "data": {
      "image/png": "[encoded data removed]",
      "text/plain": [
       "<Figure size 1500x500 with 2 Axes>"
      ]
     },
     "metadata": {},
     "output_type": "display_data"
    }
   ],
   "source": [
    "plt.subplots(figsize=(15, 5))\n",
    "plt.subplot(1, 2, 1)\n",
    "sns.boxplot(data=X_train)\n",
    "plt.title('X_train Before Scaling')\n",
    "plt.subplot(1, 2, 2)\n",
    "sns.boxplot(data=X_train_scaled)\n",
    "plt.title('X_train After Scaling')"
   ]
  },
  {
   "cell_type": "markdown",
   "id": "32dd17fa",
   "metadata": {},
   "source": [
    "**0=Temperature, 1 = RH, 2 = Ws, 3 = Rain, 4 = FFMC,5 = DMC, 6 = ISI,7 = Region**"
   ]
  },
  {
   "cell_type": "markdown",
   "id": "33144ec5",
   "metadata": {},
   "source": [
    "## - Model Selection For Regression \n",
    "* For model selection process multiple models are tested \n",
    "* Choose some and fine tune and Finalize one model"
   ]
  },
  {
   "cell_type": "markdown",
   "id": "12050b22",
   "metadata": {},
   "source": [
    "## - Linear Regression"
   ]
  },
  {
   "cell_type": "code",
   "execution_count": 19,
   "id": "6ed1b22e",
   "metadata": {},
   "outputs": [
    {
     "name": "stdout",
     "output_type": "stream",
     "text": [
      "Linear Regression\n",
      "R2 Score value: 0.9700\n",
      "MAE value: 0.6510\n"
     ]
    }
   ],
   "source": [
    "from sklearn.linear_model import LinearRegression\n",
    "from sklearn.metrics import mean_absolute_error, r2_score\n",
    "\n",
    "\n",
    "lreg = LinearRegression()\n",
    "lreg.fit(X_train_scaled, y_train)\n",
    "lreg_pred = lreg.predict(X_test_scaled)\n",
    "mae = mean_absolute_error(y_test, lreg_pred)\n",
    "r2 = r2_score(y_test, lreg_pred)\n",
    "\n",
    "print(\"Linear Regression\")\n",
    "print (\"R2 Score value: {:.4f}\".format(r2))\n",
    "print (\"MAE value: {:.4f}\".format(mae))"
   ]
  },
  {
   "cell_type": "markdown",
   "id": "db54c240",
   "metadata": {},
   "source": [
    "## - Lasso Regression"
   ]
  },
  {
   "cell_type": "code",
   "execution_count": 20,
   "id": "a6585dd7",
   "metadata": {},
   "outputs": [
    {
     "name": "stdout",
     "output_type": "stream",
     "text": [
      "Lasso Regression\n",
      "R2 Score value: 0.9377\n",
      "MAE value: 1.1209\n"
     ]
    }
   ],
   "source": [
    "from sklearn.linear_model import Lasso\n",
    "from sklearn.metrics import mean_absolute_error, r2_score\n",
    "\n",
    "\n",
    "lasso = Lasso()\n",
    "lasso.fit(X_train_scaled, y_train)\n",
    "lasso_pred = lasso.predict(X_test_scaled)\n",
    "mae = mean_absolute_error(y_test, lasso_pred)\n",
    "r2 = r2_score(y_test, lasso_pred)\n",
    "\n",
    "\n",
    "print(\"Lasso Regression\")\n",
    "print (\"R2 Score value: {:.4f}\".format(r2))\n",
    "print (\"MAE value: {:.4f}\".format(mae))"
   ]
  },
  {
   "cell_type": "markdown",
   "id": "97ee655b",
   "metadata": {},
   "source": [
    "## - Ridge Regression"
   ]
  },
  {
   "cell_type": "code",
   "execution_count": 21,
   "id": "01f34a30",
   "metadata": {},
   "outputs": [
    {
     "name": "stdout",
     "output_type": "stream",
     "text": [
      "Ridge Regression\n",
      "R2 Score value: 0.9690\n",
      "MAE value: 0.6689\n"
     ]
    }
   ],
   "source": [
    "from sklearn.linear_model import Ridge\n",
    "from sklearn.metrics import mean_absolute_error, r2_score\n",
    "\n",
    "ridge = Ridge()\n",
    "ridge.fit(X_train_scaled, y_train)\n",
    "ridge_pred = ridge.predict(X_test_scaled)\n",
    "mae = mean_absolute_error(y_test, ridge_pred)\n",
    "r2 = r2_score(y_test, ridge_pred)\n",
    "\n",
    "\n",
    "print(\"Ridge Regression\")\n",
    "print (\"R2 Score value: {:.4f}\".format(r2))\n",
    "print (\"MAE value: {:.4f}\".format(mae))"
   ]
  },
  {
   "cell_type": "markdown",
   "id": "b18e0d68",
   "metadata": {},
   "source": [
    "## - ElasticNet Regression"
   ]
  },
  {
   "cell_type": "code",
   "execution_count": 22,
   "id": "a99598de",
   "metadata": {},
   "outputs": [
    {
     "name": "stdout",
     "output_type": "stream",
     "text": [
      "Elastic Regression\n",
      "R2 Score value: 0.8600\n",
      "MAE value: 1.8051\n"
     ]
    }
   ],
   "source": [
    "from sklearn.linear_model import ElasticNet\n",
    "from sklearn.metrics import mean_absolute_error, r2_score\n",
    "\n",
    "elastic = ElasticNet()\n",
    "elastic.fit(X_train_scaled, y_train)\n",
    "elastic_pred = elastic.predict(X_test_scaled)\n",
    "mae = mean_absolute_error(y_test, elastic_pred)\n",
    "r2 = r2_score(y_test, elastic_pred)\n",
    "\n",
    "\n",
    "print(\"Elastic Regression\")\n",
    "print (\"R2 Score value: {:.4f}\".format(r2))\n",
    "print (\"MAE value: {:.4f}\".format(mae))"
   ]
  },
  {
   "cell_type": "markdown",
   "id": "a34e6d61",
   "metadata": {},
   "source": [
    "## - Support Vector Regressor"
   ]
  },
  {
   "cell_type": "code",
   "execution_count": 23,
   "id": "0cb0173d",
   "metadata": {},
   "outputs": [
    {
     "name": "stdout",
     "output_type": "stream",
     "text": [
      "Support Vector Regressor\n",
      "R2 Score value: 0.9412\n",
      "MAE value: 0.8256\n"
     ]
    }
   ],
   "source": [
    "from sklearn.svm import SVR\n",
    "from sklearn.metrics import mean_absolute_error, r2_score\n",
    "\n",
    "svr = SVR()\n",
    "svr.fit(X_train_scaled, y_train)\n",
    "svr_pred = svr.predict(X_test_scaled)\n",
    "mae = mean_absolute_error(y_test, svr_pred)\n",
    "r2 = r2_score(y_test, svr_pred)\n",
    "\n",
    "\n",
    "print(\"Support Vector Regressor\")\n",
    "print (\"R2 Score value: {:.4f}\".format(r2))\n",
    "print (\"MAE value: {:.4f}\".format(mae))"
   ]
  },
  {
   "cell_type": "markdown",
   "id": "91a95918",
   "metadata": {},
   "source": [
    "## - Random Forest Regressor"
   ]
  },
  {
   "cell_type": "code",
   "execution_count": 24,
   "id": "3eaaa1fe",
   "metadata": {},
   "outputs": [
    {
     "name": "stdout",
     "output_type": "stream",
     "text": [
      "Random Forest Regressor\n",
      "R2 Score value: 0.9811\n",
      "MAE value: 0.5595\n"
     ]
    }
   ],
   "source": [
    "from sklearn.ensemble import RandomForestRegressor\n",
    "from sklearn.metrics import mean_absolute_error, r2_score\n",
    "\n",
    "rf = RandomForestRegressor()\n",
    "rf.fit(X_train_scaled, y_train)\n",
    "rf_pred = rf.predict(X_test_scaled)\n",
    "mae = mean_absolute_error(y_test, rf_pred)\n",
    "r2 = r2_score(y_test, rf_pred)\n",
    "\n",
    "\n",
    "print(\"Random Forest Regressor\")\n",
    "print (\"R2 Score value: {:.4f}\".format(r2))\n",
    "print (\"MAE value: {:.4f}\".format(mae))"
   ]
  },
  {
   "cell_type": "markdown",
   "id": "bc3fbb51",
   "metadata": {},
   "source": [
    "## - K-Neighbors Regressor"
   ]
  },
  {
   "cell_type": "code",
   "execution_count": 25,
   "id": "a34e807a",
   "metadata": {},
   "outputs": [
    {
     "name": "stdout",
     "output_type": "stream",
     "text": [
      "K_Neighbours Regressor\n",
      "R2 Score value: 0.9422\n",
      "MAE value: 0.9816\n"
     ]
    }
   ],
   "source": [
    "from sklearn.neighbors import KNeighborsRegressor\n",
    "from sklearn.metrics import mean_absolute_error, r2_score\n",
    "\n",
    "knn = KNeighborsRegressor()\n",
    "knn.fit(X_train_scaled, y_train)\n",
    "knn_pred = knn.predict(X_test_scaled)\n",
    "mae = mean_absolute_error(y_test, knn_pred)\n",
    "r2 = r2_score(y_test, knn_pred)\n",
    "\n",
    "\n",
    "print(\"K_Neighbours Regressor\")\n",
    "print (\"R2 Score value: {:.4f}\".format(r2))\n",
    "print (\"MAE value: {:.4f}\".format(mae))"
   ]
  },
  {
   "cell_type": "code",
   "execution_count": 26,
   "id": "2c407ed9",
   "metadata": {},
   "outputs": [
    {
     "name": "stdout",
     "output_type": "stream",
     "text": [
      "Ensemble of XGBoost and Random Forest\n",
      "R2 Score value: 0.9829\n",
      "MAE value: 0.5456\n"
     ]
    }
   ],
   "source": [
    "'''from sklearn.ensemble import RandomForestRegressor\n",
    "import xgboost as xgb\n",
    "from sklearn.metrics import mean_absolute_error, r2_score\n",
    "\n",
    "# Initialize models\n",
    "rf = RandomForestRegressor()\n",
    "xgb_model = xgb.XGBRegressor()\n",
    "\n",
    "# Train models\n",
    "rf.fit(X_train_scaled, y_train)\n",
    "xgb_model.fit(X_train_scaled, y_train)\n",
    "\n",
    "# Predict\n",
    "rf_pred = rf.predict(X_test_scaled)\n",
    "xgb_pred = xgb_model.predict(X_test_scaled)\n",
    "\n",
    "# Ensemble predictions (simple averaging)\n",
    "ensemble_pred = (rf_pred + xgb_pred) / 2\n",
    "\n",
    "# Evaluate ensemble\n",
    "mae = mean_absolute_error(y_test, ensemble_pred)\n",
    "r2 = r2_score(y_test, ensemble_pred)\n",
    "\n",
    "print(\"Ensemble of XGBoost and Random Forest\")\n",
    "print(\"R2 Score value: {:.4f}\".format(r2))\n",
    "print(\"MAE value: {:.4f}\".format(mae))'''\n"
   ]
  },
  {
   "cell_type": "code",
   "execution_count": 27,
   "id": "295e17e0",
   "metadata": {},
   "outputs": [
    {
     "name": "stdout",
     "output_type": "stream",
     "text": [
      "Ensemble of XGBoost and Random Forest\n",
      "R2 Score value: 0.9840\n",
      "MAE value: 0.5270\n"
     ]
    }
   ],
   "source": [
    "from sklearn.ensemble import RandomForestRegressor\n",
    "import xgboost as xgb\n",
    "from sklearn.metrics import mean_absolute_error, r2_score\n",
    "\n",
    "# Initialize models\n",
    "rf = RandomForestRegressor()\n",
    "xgb_model = xgb.XGBRegressor()\n",
    "\n",
    "# Train models\n",
    "rf.fit(X_train_scaled, y_train)\n",
    "xgb_model.fit(X_train_scaled, y_train)\n",
    "\n",
    "# Predict\n",
    "rf_pred = rf.predict(X_test_scaled)\n",
    "xgb_pred = xgb_model.predict(X_test_scaled)\n",
    "\n",
    "# Ensemble predictions (simple averaging)\n",
    "ensemble_pred = (rf_pred + xgb_pred) / 2\n",
    "\n",
    "# Evaluate ensemble\n",
    "mae = mean_absolute_error(y_test, ensemble_pred)\n",
    "r2 = r2_score(y_test, ensemble_pred)\n",
    "\n",
    "print(\"Ensemble of XGBoost and Random Forest\")\n",
    "print(\"R2 Score value: {:.4f}\".format(r2))\n",
    "print(\"MAE value: {:.4f}\".format(mae))\n"
   ]
  },
  {
   "cell_type": "markdown",
   "id": "f0efe05b",
   "metadata": {},
   "source": [
    "## XG Boost"
   ]
  },
  {
   "cell_type": "code",
   "execution_count": 28,
   "id": "e97d55f2",
   "metadata": {},
   "outputs": [
    {
     "name": "stdout",
     "output_type": "stream",
     "text": [
      "XGBoost Regressor\n",
      "R2 Score value: 0.9803\n",
      "MAE value: 0.5421\n"
     ]
    }
   ],
   "source": [
    "from xgboost import XGBRegressor\n",
    "from sklearn.metrics import mean_absolute_error, r2_score\n",
    "\n",
    "xgb = XGBRegressor()\n",
    "xgb.fit(X_train_scaled, y_train)\n",
    "xgb_pred = xgb.predict(X_test_scaled)\n",
    "mae = mean_absolute_error(y_test, xgb_pred)\n",
    "r2 = r2_score(y_test, xgb_pred)\n",
    "\n",
    "print(\"XGBoost Regressor\")\n",
    "print(\"R2 Score value: {:.4f}\".format(r2))\n",
    "print(\"MAE value: {:.4f}\".format(mae))\n"
   ]
  },
  {
   "cell_type": "markdown",
   "id": "b63cfecf",
   "metadata": {},
   "source": [
    "## Ada Boost"
   ]
  },
  {
   "cell_type": "code",
   "execution_count": 30,
   "id": "a38cf9a8",
   "metadata": {},
   "outputs": [
    {
     "name": "stdout",
     "output_type": "stream",
     "text": [
      "AdaBoost Regressor\n",
      "R2 Score value: 0.9490\n",
      "MAE value: 1.1660\n"
     ]
    }
   ],
   "source": [
    "from sklearn.ensemble import AdaBoostRegressor\n",
    "from sklearn.metrics import mean_absolute_error, r2_score\n",
    "\n",
    "ada = AdaBoostRegressor()\n",
    "ada.fit(X_train_scaled, y_train)\n",
    "ada_pred = ada.predict(X_test_scaled)\n",
    "mae = mean_absolute_error(y_test, ada_pred)\n",
    "r2 = r2_score(y_test, ada_pred)\n",
    "\n",
    "print(\"AdaBoost Regressor\")\n",
    "print(\"R2 Score value: {:.4f}\".format(r2))\n",
    "print(\"MAE value: {:.4f}\".format(mae))\n"
   ]
  },
  {
   "cell_type": "markdown",
   "id": "a04e8b6b",
   "metadata": {},
   "source": [
    "## Boosting Algorithm\n"
   ]
  },
  {
   "cell_type": "code",
   "execution_count": 35,
   "id": "7882a8b5",
   "metadata": {},
   "outputs": [
    {
     "name": "stdout",
     "output_type": "stream",
     "text": [
      "\n",
      "AdaBoost Results:\n",
      "R2 Score value: 0.9535\n",
      "MAE value: 1.1178\n",
      "\n",
      "XGBoost Results:\n",
      "R2 Score value: 0.9803\n",
      "MAE value: 0.5423\n",
      "\n",
      "RandomForest Results:\n",
      "R2 Score value: 0.9799\n",
      "MAE value: 0.5954\n"
     ]
    }
   ],
   "source": [
    "# Initialize the models\n",
    "models = {\n",
    "    \"AdaBoost\": AdaBoostRegressor(n_estimators=50, random_state=42),\n",
    "    \"XGBoost\": XGBRegressor(n_estimators=50, random_state=42, objective='reg:squarederror'),\n",
    "    \"RandomForest\": RandomForestRegressor(n_estimators=50, random_state=42)\n",
    "}\n",
    "\n",
    "# Train each model and evaluate\n",
    "for model_name, model in models.items():\n",
    "    # Fit the model\n",
    "    model.fit(X_train_scaled, y_train)\n",
    "    \n",
    "    # Make predictions\n",
    "    y_pred = model.predict(X_test_scaled)\n",
    "    \n",
    "    # Calculate R2 Score and MAE\n",
    "    r2 = r2_score(y_test, y_pred)\n",
    "    mae = mean_absolute_error(y_test, y_pred)\n",
    "    \n",
    "    # Print results\n",
    "    print(f\"\\n{model_name} Results:\")\n",
    "    print(\"R2 Score value: {:.4f}\".format(r2))\n",
    "    print(\"MAE value: {:.4f}\".format(mae))"
   ]
  },
  {
   "cell_type": "code",
   "execution_count": 45,
   "id": "0ddc09b4",
   "metadata": {},
   "outputs": [
    {
     "name": "stdout",
     "output_type": "stream",
     "text": [
      "Stacking Hybrid Model Results:\n",
      "R2 Score value: 0.9814\n",
      "MAE value: 0.5708\n"
     ]
    }
   ],
   "source": [
    "# Initialize base models\n",
    "base_models = [\n",
    "    (\"AdaBoost\", AdaBoostRegressor(n_estimators=50, random_state=42)),\n",
    "    # (\"XGBoost\", XGBRegressor(n_estimators=50, random_state=42, objective='reg:squarederror')),\n",
    "    # (\"RandomForest\", RandomForestRegressor(n_estimators=50, random_state=42)),\n",
    "    (\"KNN\", KNeighborsRegressor(n_neighbors=5))\n",
    "]\n",
    "\n",
    "# Train base models and gather predictions for stacking\n",
    "train_meta_features = np.zeros((X_train.shape[0], len(base_models)))\n",
    "test_meta_features = np.zeros((X_test.shape[0], len(base_models)))\n",
    "\n",
    "for i, (model_name, model) in enumerate(base_models):\n",
    "    # Fit each base model on the training data\n",
    "    model.fit(X_train_scaled, y_train)\n",
    "    \n",
    "    # Generate predictions\n",
    "    train_meta_features[:, i] = model.predict(X_train_scaled)\n",
    "    test_meta_features[:, i] = model.predict(X_test_scaled)\n",
    "\n",
    "# Train meta-model on predictions from base models\n",
    "meta_model = LinearRegression()\n",
    "meta_model.fit(train_meta_features, y_train)\n",
    "\n",
    "# Meta-model prediction\n",
    "y_pred = meta_model.predict(test_meta_features)\n",
    "\n",
    "# Evaluate hybrid model\n",
    "r2 = r2_score(y_test, y_pred)\n",
    "mae = mean_absolute_error(y_test, y_pred)\n",
    "\n",
    "# Print results\n",
    "print(\"Stacking Hybrid Model Results:\")\n",
    "print(\"R2 Score value: {:.4f}\".format(r2))\n",
    "print(\"MAE value: {:.4f}\".format(mae))"
   ]
  },
  {
   "cell_type": "markdown",
   "id": "900e3ee4",
   "metadata": {},
   "source": [
    "### **Accuracy score Results Summary**\n",
    "\n",
    "| Models     | Accuracy score  |\n",
    "| ----------- | ----------- |\n",
    "| Hybrid Model(KNN+Ada Boost)     | 98.14 % |\n",
    "| XG Boost     | 98.03 % |\n",
    "| Random Forest Regressor     | 97.75 % |\n",
    "| Linear Regression  | 97.00 % |\n",
    "| Ridge Regression  | 96.96 % |\n",
    "| Ada Boost    | 95.35 % |\n",
    "| K Neighbors Regressor  | 94.22 %|\n",
    "| Lasso Regression  | 93.77 % |\n",
    "| Support Vector Regressor     | 94.12 % |\n",
    "| Elastic Net Regressor | 86.00 % |"
   ]
  },
  {
   "cell_type": "markdown",
   "id": "782d2a46",
   "metadata": {},
   "source": [
    "The hybrid model has performed best out of all models."
   ]
  },
  {
   "cell_type": "code",
   "execution_count": null,
   "id": "54b9a09a",
   "metadata": {},
   "outputs": [],
   "source": []
  },
  {
   "cell_type": "markdown",
   "id": "d06a5d9a",
   "metadata": {},
   "source": [
    "## - Hyperparameter Tuning"
   ]
  },
  {
   "cell_type": "markdown",
   "id": "f127b968",
   "metadata": {},
   "source": [
    "### Tuning Random Forest Regressor"
   ]
  },
  {
   "cell_type": "code",
   "execution_count": 60,
   "id": "8326a6de",
   "metadata": {},
   "outputs": [
    {
     "name": "stdout",
     "output_type": "stream",
     "text": [
      "Fitting 10 folds for each of 10 candidates, totalling 100 fits\n"
     ]
    },
    {
     "name": "stderr",
     "output_type": "stream",
     "text": [
      "c:\\Data Science Projects(2024)\\Algerian Forest Fire\\venvv\\lib\\site-packages\\sklearn\\model_selection\\_validation.py:425: FitFailedWarning: \n",
      "60 fits failed out of a total of 100.\n",
      "The score on these train-test partitions for these parameters will be set to nan.\n",
      "If these failures are not expected, you can try to debug them by setting error_score='raise'.\n",
      "\n",
      "Below are more details about the failures:\n",
      "--------------------------------------------------------------------------------\n",
      "52 fits failed with the following error:\n",
      "Traceback (most recent call last):\n",
      "  File \"c:\\Data Science Projects(2024)\\Algerian Forest Fire\\venvv\\lib\\site-packages\\sklearn\\model_selection\\_validation.py\", line 729, in _fit_and_score\n",
      "    estimator.fit(X_train, y_train, **fit_params)\n",
      "  File \"c:\\Data Science Projects(2024)\\Algerian Forest Fire\\venvv\\lib\\site-packages\\sklearn\\base.py\", line 1145, in wrapper\n",
      "    estimator._validate_params()\n",
      "  File \"c:\\Data Science Projects(2024)\\Algerian Forest Fire\\venvv\\lib\\site-packages\\sklearn\\base.py\", line 638, in _validate_params\n",
      "    validate_parameter_constraints(\n",
      "  File \"c:\\Data Science Projects(2024)\\Algerian Forest Fire\\venvv\\lib\\site-packages\\sklearn\\utils\\_param_validation.py\", line 96, in validate_parameter_constraints\n",
      "    raise InvalidParameterError(\n",
      "sklearn.utils._param_validation.InvalidParameterError: The 'max_features' parameter of RandomForestRegressor must be an int in the range [1, inf), a float in the range (0.0, 1.0], a str among {'sqrt', 'log2'} or None. Got 'auto' instead.\n",
      "\n",
      "--------------------------------------------------------------------------------\n",
      "8 fits failed with the following error:\n",
      "Traceback (most recent call last):\n",
      "  File \"c:\\Data Science Projects(2024)\\Algerian Forest Fire\\venvv\\lib\\site-packages\\sklearn\\model_selection\\_validation.py\", line 729, in _fit_and_score\n",
      "    estimator.fit(X_train, y_train, **fit_params)\n",
      "  File \"c:\\Data Science Projects(2024)\\Algerian Forest Fire\\venvv\\lib\\site-packages\\sklearn\\base.py\", line 1145, in wrapper\n",
      "    estimator._validate_params()\n",
      "  File \"c:\\Data Science Projects(2024)\\Algerian Forest Fire\\venvv\\lib\\site-packages\\sklearn\\base.py\", line 638, in _validate_params\n",
      "    validate_parameter_constraints(\n",
      "  File \"c:\\Data Science Projects(2024)\\Algerian Forest Fire\\venvv\\lib\\site-packages\\sklearn\\utils\\_param_validation.py\", line 96, in validate_parameter_constraints\n",
      "    raise InvalidParameterError(\n",
      "sklearn.utils._param_validation.InvalidParameterError: The 'max_features' parameter of RandomForestRegressor must be an int in the range [1, inf), a float in the range (0.0, 1.0], a str among {'log2', 'sqrt'} or None. Got 'auto' instead.\n",
      "\n",
      "  warnings.warn(some_fits_failed_message, FitFailedWarning)\n",
      "c:\\Data Science Projects(2024)\\Algerian Forest Fire\\venvv\\lib\\site-packages\\sklearn\\model_selection\\_search.py:979: UserWarning: One or more of the test scores are non-finite: [0.9535202         nan        nan        nan        nan        nan\n",
      " 0.93713371 0.92409718 0.95751834        nan]\n",
      "  warnings.warn(\n"
     ]
    },
    {
     "data": {
      "text/html": [
       "<style>#sk-container-id-2 {color: black;}#sk-container-id-2 pre{padding: 0;}#sk-container-id-2 div.sk-toggleable {background-color: white;}#sk-container-id-2 label.sk-toggleable__label {cursor: pointer;display: block;width: 100%;margin-bottom: 0;padding: 0.3em;box-sizing: border-box;text-align: center;}#sk-container-id-2 label.sk-toggleable__label-arrow:before {content: \"▸\";float: left;margin-right: 0.25em;color: #696969;}#sk-container-id-2 label.sk-toggleable__label-arrow:hover:before {color: black;}#sk-container-id-2 div.sk-estimator:hover label.sk-toggleable__label-arrow:before {color: black;}#sk-container-id-2 div.sk-toggleable__content {max-height: 0;max-width: 0;overflow: hidden;text-align: left;background-color: #f0f8ff;}#sk-container-id-2 div.sk-toggleable__content pre {margin: 0.2em;color: black;border-radius: 0.25em;background-color: #f0f8ff;}#sk-container-id-2 input.sk-toggleable__control:checked~div.sk-toggleable__content {max-height: 200px;max-width: 100%;overflow: auto;}#sk-container-id-2 input.sk-toggleable__control:checked~label.sk-toggleable__label-arrow:before {content: \"▾\";}#sk-container-id-2 div.sk-estimator input.sk-toggleable__control:checked~label.sk-toggleable__label {background-color: #d4ebff;}#sk-container-id-2 div.sk-label input.sk-toggleable__control:checked~label.sk-toggleable__label {background-color: #d4ebff;}#sk-container-id-2 input.sk-hidden--visually {border: 0;clip: rect(1px 1px 1px 1px);clip: rect(1px, 1px, 1px, 1px);height: 1px;margin: -1px;overflow: hidden;padding: 0;position: absolute;width: 1px;}#sk-container-id-2 div.sk-estimator {font-family: monospace;background-color: #f0f8ff;border: 1px dotted black;border-radius: 0.25em;box-sizing: border-box;margin-bottom: 0.5em;}#sk-container-id-2 div.sk-estimator:hover {background-color: #d4ebff;}#sk-container-id-2 div.sk-parallel-item::after {content: \"\";width: 100%;border-bottom: 1px solid gray;flex-grow: 1;}#sk-container-id-2 div.sk-label:hover label.sk-toggleable__label {background-color: #d4ebff;}#sk-container-id-2 div.sk-serial::before {content: \"\";position: absolute;border-left: 1px solid gray;box-sizing: border-box;top: 0;bottom: 0;left: 50%;z-index: 0;}#sk-container-id-2 div.sk-serial {display: flex;flex-direction: column;align-items: center;background-color: white;padding-right: 0.2em;padding-left: 0.2em;position: relative;}#sk-container-id-2 div.sk-item {position: relative;z-index: 1;}#sk-container-id-2 div.sk-parallel {display: flex;align-items: stretch;justify-content: center;background-color: white;position: relative;}#sk-container-id-2 div.sk-item::before, #sk-container-id-2 div.sk-parallel-item::before {content: \"\";position: absolute;border-left: 1px solid gray;box-sizing: border-box;top: 0;bottom: 0;left: 50%;z-index: -1;}#sk-container-id-2 div.sk-parallel-item {display: flex;flex-direction: column;z-index: 1;position: relative;background-color: white;}#sk-container-id-2 div.sk-parallel-item:first-child::after {align-self: flex-end;width: 50%;}#sk-container-id-2 div.sk-parallel-item:last-child::after {align-self: flex-start;width: 50%;}#sk-container-id-2 div.sk-parallel-item:only-child::after {width: 0;}#sk-container-id-2 div.sk-dashed-wrapped {border: 1px dashed gray;margin: 0 0.4em 0.5em 0.4em;box-sizing: border-box;padding-bottom: 0.4em;background-color: white;}#sk-container-id-2 div.sk-label label {font-family: monospace;font-weight: bold;display: inline-block;line-height: 1.2em;}#sk-container-id-2 div.sk-label-container {text-align: center;}#sk-container-id-2 div.sk-container {/* jupyter's `normalize.less` sets `[hidden] { display: none; }` but bootstrap.min.css set `[hidden] { display: none !important; }` so we also need the `!important` here to be able to override the default hidden behavior on the sphinx rendered scikit-learn.org. See: https://github.com/scikit-learn/scikit-learn/issues/21755 */display: inline-block !important;position: relative;}#sk-container-id-2 div.sk-text-repr-fallback {display: none;}</style><div id=\"sk-container-id-2\" class=\"sk-top-container\"><div class=\"sk-text-repr-fallback\"><pre>RandomizedSearchCV(cv=10, estimator=RandomForestRegressor(), n_jobs=-1,\n",
       "                   param_distributions=[{&#x27;bootstrap&#x27;: [True, False],\n",
       "                                         &#x27;max_depth&#x27;: [10, 20, 30, 40, 50, 60,\n",
       "                                                       70, 80, 90, 100, 110,\n",
       "                                                       120],\n",
       "                                         &#x27;max_features&#x27;: [&#x27;auto&#x27;, &#x27;sqrt&#x27;],\n",
       "                                         &#x27;min_samples_leaf&#x27;: [1, 3, 4],\n",
       "                                         &#x27;min_samples_split&#x27;: [2, 6, 10],\n",
       "                                         &#x27;n_estimators&#x27;: [5, 20, 50, 100]}],\n",
       "                   verbose=2)</pre><b>In a Jupyter environment, please rerun this cell to show the HTML representation or trust the notebook. <br />On GitHub, the HTML representation is unable to render, please try loading this page with nbviewer.org.</b></div><div class=\"sk-container\" hidden><div class=\"sk-item sk-dashed-wrapped\"><div class=\"sk-label-container\"><div class=\"sk-label sk-toggleable\"><input class=\"sk-toggleable__control sk-hidden--visually\" id=\"sk-estimator-id-4\" type=\"checkbox\" ><label for=\"sk-estimator-id-4\" class=\"sk-toggleable__label sk-toggleable__label-arrow\">RandomizedSearchCV</label><div class=\"sk-toggleable__content\"><pre>RandomizedSearchCV(cv=10, estimator=RandomForestRegressor(), n_jobs=-1,\n",
       "                   param_distributions=[{&#x27;bootstrap&#x27;: [True, False],\n",
       "                                         &#x27;max_depth&#x27;: [10, 20, 30, 40, 50, 60,\n",
       "                                                       70, 80, 90, 100, 110,\n",
       "                                                       120],\n",
       "                                         &#x27;max_features&#x27;: [&#x27;auto&#x27;, &#x27;sqrt&#x27;],\n",
       "                                         &#x27;min_samples_leaf&#x27;: [1, 3, 4],\n",
       "                                         &#x27;min_samples_split&#x27;: [2, 6, 10],\n",
       "                                         &#x27;n_estimators&#x27;: [5, 20, 50, 100]}],\n",
       "                   verbose=2)</pre></div></div></div><div class=\"sk-parallel\"><div class=\"sk-parallel-item\"><div class=\"sk-item\"><div class=\"sk-label-container\"><div class=\"sk-label sk-toggleable\"><input class=\"sk-toggleable__control sk-hidden--visually\" id=\"sk-estimator-id-5\" type=\"checkbox\" ><label for=\"sk-estimator-id-5\" class=\"sk-toggleable__label sk-toggleable__label-arrow\">estimator: RandomForestRegressor</label><div class=\"sk-toggleable__content\"><pre>RandomForestRegressor()</pre></div></div></div><div class=\"sk-serial\"><div class=\"sk-item\"><div class=\"sk-estimator sk-toggleable\"><input class=\"sk-toggleable__control sk-hidden--visually\" id=\"sk-estimator-id-6\" type=\"checkbox\" ><label for=\"sk-estimator-id-6\" class=\"sk-toggleable__label sk-toggleable__label-arrow\">RandomForestRegressor</label><div class=\"sk-toggleable__content\"><pre>RandomForestRegressor()</pre></div></div></div></div></div></div></div></div></div></div>"
      ],
      "text/plain": [
       "RandomizedSearchCV(cv=10, estimator=RandomForestRegressor(), n_jobs=-1,\n",
       "                   param_distributions=[{'bootstrap': [True, False],\n",
       "                                         'max_depth': [10, 20, 30, 40, 50, 60,\n",
       "                                                       70, 80, 90, 100, 110,\n",
       "                                                       120],\n",
       "                                         'max_features': ['auto', 'sqrt'],\n",
       "                                         'min_samples_leaf': [1, 3, 4],\n",
       "                                         'min_samples_split': [2, 6, 10],\n",
       "                                         'n_estimators': [5, 20, 50, 100]}],\n",
       "                   verbose=2)"
      ]
     },
     "execution_count": 60,
     "metadata": {},
     "output_type": "execute_result"
    }
   ],
   "source": [
    "param_grid =[{'bootstrap': [True, False],\n",
    "'max_depth': [10, 20, 30, 40, 50, 60, 70, 80, 90, 100, 110,120],\n",
    "'max_features': ['auto', 'sqrt'],\n",
    "'min_samples_leaf': [1, 3, 4],\n",
    "'min_samples_split': [2, 6, 10],\n",
    "'n_estimators': [5, 20, 50, 100]}]\n",
    "\n",
    "f_reg = RandomForestRegressor()\n",
    "Random_rf = RandomizedSearchCV(f_reg,param_grid, cv = 10, verbose=2,n_jobs = -1)\n",
    "Random_rf.fit(X_train_scaled, y_train)"
   ]
  },
  {
   "cell_type": "code",
   "execution_count": 61,
   "id": "484b032e",
   "metadata": {},
   "outputs": [
    {
     "name": "stdout",
     "output_type": "stream",
     "text": [
      "Random Forest Tuned\n",
      "R2 Score value: 0.9694\n",
      "MAE value: 0.7438\n"
     ]
    }
   ],
   "source": [
    "best_random_grid=Random_rf.best_estimator_\n",
    "\n",
    "bestrf_pred = best_random_grid.predict(X_test_scaled)\n",
    "mae = mean_absolute_error(y_test, bestrf_pred)\n",
    "r2 = r2_score(y_test, bestrf_pred)\n",
    "\n",
    "\n",
    "print(\"Random Forest Tuned\")\n",
    "print (\"R2 Score value: {:.4f}\".format(r2))\n",
    "print (\"MAE value: {:.4f}\".format(mae))"
   ]
  },
  {
   "cell_type": "markdown",
   "id": "7bbfcd98",
   "metadata": {},
   "source": [
    "#### Feature removal"
   ]
  },
  {
   "cell_type": "markdown",
   "id": "b1f2f659",
   "metadata": {},
   "source": [
    "For the web app, I will use the 5 most important features that are helpful in predicting the fire since we it would be pain to front end user to fill all 8 features on the web app. I will drop the rest of features so we can build an interactive and user friendly web app."
   ]
  },
  {
   "cell_type": "code",
   "execution_count": 62,
   "id": "39298f8e",
   "metadata": {},
   "outputs": [
    {
     "data": {
      "text/html": [
       "<div>\n",
       "<style scoped>\n",
       "    .dataframe tbody tr th:only-of-type {\n",
       "        vertical-align: middle;\n",
       "    }\n",
       "\n",
       "    .dataframe tbody tr th {\n",
       "        vertical-align: top;\n",
       "    }\n",
       "\n",
       "    .dataframe thead th {\n",
       "        text-align: right;\n",
       "    }\n",
       "</style>\n",
       "<table border=\"1\" class=\"dataframe\">\n",
       "  <thead>\n",
       "    <tr style=\"text-align: right;\">\n",
       "      <th></th>\n",
       "      <th>feature</th>\n",
       "      <th>importance</th>\n",
       "    </tr>\n",
       "  </thead>\n",
       "  <tbody>\n",
       "    <tr>\n",
       "      <th>6</th>\n",
       "      <td>ISI</td>\n",
       "      <td>3.586098e-01</td>\n",
       "    </tr>\n",
       "    <tr>\n",
       "      <th>4</th>\n",
       "      <td>FFMC</td>\n",
       "      <td>3.177801e-01</td>\n",
       "    </tr>\n",
       "    <tr>\n",
       "      <th>5</th>\n",
       "      <td>DMC</td>\n",
       "      <td>1.908916e-01</td>\n",
       "    </tr>\n",
       "    <tr>\n",
       "      <th>3</th>\n",
       "      <td>Rain</td>\n",
       "      <td>5.295396e-02</td>\n",
       "    </tr>\n",
       "    <tr>\n",
       "      <th>0</th>\n",
       "      <td>Temperature</td>\n",
       "      <td>3.659964e-02</td>\n",
       "    </tr>\n",
       "    <tr>\n",
       "      <th>1</th>\n",
       "      <td>RH</td>\n",
       "      <td>3.033954e-02</td>\n",
       "    </tr>\n",
       "    <tr>\n",
       "      <th>2</th>\n",
       "      <td>Ws</td>\n",
       "      <td>1.105896e-02</td>\n",
       "    </tr>\n",
       "    <tr>\n",
       "      <th>8</th>\n",
       "      <td>Region</td>\n",
       "      <td>1.766381e-03</td>\n",
       "    </tr>\n",
       "    <tr>\n",
       "      <th>7</th>\n",
       "      <td>Classes</td>\n",
       "      <td>4.133490e-08</td>\n",
       "    </tr>\n",
       "  </tbody>\n",
       "</table>\n",
       "</div>"
      ],
      "text/plain": [
       "       feature    importance\n",
       "6          ISI  3.586098e-01\n",
       "4         FFMC  3.177801e-01\n",
       "5          DMC  1.908916e-01\n",
       "3         Rain  5.295396e-02\n",
       "0  Temperature  3.659964e-02\n",
       "1           RH  3.033954e-02\n",
       "2           Ws  1.105896e-02\n",
       "8       Region  1.766381e-03\n",
       "7      Classes  4.133490e-08"
      ]
     },
     "execution_count": 62,
     "metadata": {},
     "output_type": "execute_result"
    }
   ],
   "source": [
    "feature_importances = Random_rf.best_estimator_.feature_importances_\n",
    "importance_df = pd.DataFrame({\n",
    "    'feature': X_train.columns,\n",
    "    'importance': feature_importances\n",
    "}).sort_values('importance', ascending=False)\n",
    "importance_df"
   ]
  },
  {
   "cell_type": "code",
   "execution_count": 63,
   "id": "63405bab",
   "metadata": {},
   "outputs": [
    {
     "data": {
      "text/plain": [
       "Text(0, 0.5, 'Features')"
      ]
     },
     "execution_count": 63,
     "metadata": {},
     "output_type": "execute_result"
    },
    {
     "data": {
      "image/png": "[encoded data removed]",
      "text/plain": [
       "<Figure size 1200x600 with 1 Axes>"
      ]
     },
     "metadata": {},
     "output_type": "display_data"
    }
   ],
   "source": [
    "plt.figure(figsize=(12,6))\n",
    "sns.set_style('ticks')\n",
    "ax = sns.barplot(data=importance_df, x='importance', y='feature',ec = 'black')\n",
    "ax.set_title('Top 10 Important Features', weight='bold',fontsize = 15)\n",
    "ax.set_xlabel('Feature Importance %',weight='bold')\n",
    "ax.set_ylabel('Features',weight='bold')"
   ]
  },
  {
   "cell_type": "markdown",
   "id": "78bd08b7",
   "metadata": {},
   "source": [
    "### Model for deployment"
   ]
  },
  {
   "cell_type": "code",
   "execution_count": 64,
   "id": "609c9b60",
   "metadata": {},
   "outputs": [],
   "source": [
    "X_train_new = X_train.drop(['Classes', 'Region', 'Ws', 'RH'], axis=1)\n",
    "X_test_new = X_test.drop(['Classes', 'Region', 'Ws', 'RH'], axis=1)"
   ]
  },
  {
   "cell_type": "code",
   "execution_count": 65,
   "id": "94c22c53",
   "metadata": {},
   "outputs": [
    {
     "data": {
      "text/plain": [
       "Index(['Temperature', 'Rain', 'FFMC', 'DMC', 'ISI'], dtype='object')"
      ]
     },
     "execution_count": 65,
     "metadata": {},
     "output_type": "execute_result"
    }
   ],
   "source": [
    "X_train_new.columns"
   ]
  },
  {
   "cell_type": "code",
   "execution_count": 66,
   "id": "4e14134b",
   "metadata": {},
   "outputs": [],
   "source": [
    "scaler_new = StandardScaler()\n",
    "X_train_new_scaled = scaler_new.fit_transform(X_train_new)\n",
    "X_test_new_scaled = scaler_new.transform(X_test_new)\n"
   ]
  },
  {
   "cell_type": "code",
   "execution_count": 67,
   "id": "ffcd8919",
   "metadata": {},
   "outputs": [
    {
     "name": "stdout",
     "output_type": "stream",
     "text": [
      "Random Forest Tuned\n",
      "R2 Score value: 0.9726\n",
      "MAE value: 0.6390\n"
     ]
    }
   ],
   "source": [
    "best_random_grid.fit(X_train_new_scaled, y_train)\n",
    "bestrf_pred = best_random_grid.predict(X_test_new_scaled)\n",
    "mae = mean_absolute_error(y_test, bestrf_pred)\n",
    "r2 = r2_score(y_test, bestrf_pred)\n",
    "\n",
    "\n",
    "print(\"Random Forest Tuned\")\n",
    "print (\"R2 Score value: {:.4f}\".format(r2))\n",
    "print (\"MAE value: {:.4f}\".format(mae))"
   ]
  },
  {
   "cell_type": "code",
   "execution_count": 68,
   "id": "6769886b",
   "metadata": {},
   "outputs": [],
   "source": [
    "import pickle\n",
    "pickle.dump(scaler_new,open('scaler.pkl','wb'))\n",
    "pickle.dump(best_random_grid,open('regressor.pkl','wb'))"
   ]
  },
  {
   "cell_type": "code",
   "execution_count": null,
   "id": "0d36e806",
   "metadata": {},
   "outputs": [],
   "source": []
  }
 ],
 "metadata": {
  "kernelspec": {
   "display_name": "Python 3",
   "language": "python",
   "name": "python3"
  },
  "language_info": {
   "codemirror_mode": {
    "name": "ipython",
    "version": 3
   },
   "file_extension": ".py",
   "mimetype": "text/x-python",
   "name": "python",
   "nbconvert_exporter": "python",
   "pygments_lexer": "ipython3",
   "version": "3.8.0"
  }
 },
 "nbformat": 4,
 "nbformat_minor": 5
}
